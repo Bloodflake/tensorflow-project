{
  "nbformat": 4,
  "nbformat_minor": 0,
  "metadata": {
    "colab": {
      "name": "Custom_linear_model_with_tensorflow.ipynb",
      "provenance": [],
      "collapsed_sections": [],
      "include_colab_link": true
    },
    "kernelspec": {
      "name": "python3",
      "display_name": "Python 3"
    }
  },
  "cells": [
    {
      "cell_type": "markdown",
      "metadata": {
        "id": "view-in-github",
        "colab_type": "text"
      },
      "source": [
        "<a href=\"https://colab.research.google.com/github/Bloodflake/tensorflow-project/blob/master/Custom_linear_model_with_tensorflow.ipynb\" target=\"_parent\"><img src=\"https://colab.research.google.com/assets/colab-badge.svg\" alt=\"Open In Colab\"/></a>"
      ]
    },
    {
      "cell_type": "code",
      "metadata": {
        "colab_type": "code",
        "id": "NiolgWMPgpwI",
        "outputId": "4d75a99e-7fe8-4e64-b945-2d28d04eba90",
        "colab": {
          "base_uri": "https://localhost:8080/",
          "height": 34
        }
      },
      "source": [
        "from __future__ import absolute_import, division, print_function, unicode_literals\n",
        "\n",
        "try:\n",
        "  %tensorflow_version 2.x\n",
        "except Exception:\n",
        "  pass\n",
        "import tensorflow as tf\n",
        "tf.random.set_seed(1)"
      ],
      "execution_count": 0,
      "outputs": [
        {
          "output_type": "stream",
          "text": [
            "TensorFlow 2.x selected.\n"
          ],
          "name": "stdout"
        }
      ]
    },
    {
      "cell_type": "markdown",
      "metadata": {
        "colab_type": "text",
        "id": "BMiFcDzE7Qu3"
      },
      "source": [
        "## A linear model f(x) = w*x + b"
      ]
    },
    {
      "cell_type": "code",
      "metadata": {
        "colab_type": "code",
        "id": "_WRu7Pze7wk8",
        "colab": {}
      },
      "source": [
        "class Model():\n",
        "  def __init__(self):\n",
        "    self.w = tf.Variable(3.0)\n",
        "    self.b = tf.Variable(0.0)\n",
        "    \n",
        "  def __call__(self,x):\n",
        "    return self.w*x + self.b"
      ],
      "execution_count": 0,
      "outputs": []
    },
    {
      "cell_type": "code",
      "metadata": {
        "id": "METkc4EvPSYa",
        "colab_type": "code",
        "colab": {}
      },
      "source": [
        "model = Model()"
      ],
      "execution_count": 0,
      "outputs": []
    },
    {
      "cell_type": "code",
      "metadata": {
        "id": "I3jzYLNzRI0j",
        "colab_type": "code",
        "outputId": "3501ab75-7cc4-4209-ee2f-c0ac863322f3",
        "colab": {
          "base_uri": "https://localhost:8080/",
          "height": 54
        }
      },
      "source": [
        "model.w"
      ],
      "execution_count": 0,
      "outputs": [
        {
          "output_type": "execute_result",
          "data": {
            "text/plain": [
              "<tf.Variable 'Variable:0' shape=() dtype=float32, numpy=3.0>"
            ]
          },
          "metadata": {
            "tags": []
          },
          "execution_count": 4
        }
      ]
    },
    {
      "cell_type": "code",
      "metadata": {
        "id": "Gwp6g73zPhT-",
        "colab_type": "code",
        "outputId": "626bf019-5095-46d9-e6ee-f8ecb05e13a3",
        "colab": {
          "base_uri": "https://localhost:8080/",
          "height": 54
        }
      },
      "source": [
        "model(3.0)"
      ],
      "execution_count": 0,
      "outputs": [
        {
          "output_type": "execute_result",
          "data": {
            "text/plain": [
              "<tf.Tensor: id=20, shape=(), dtype=float32, numpy=9.0>"
            ]
          },
          "metadata": {
            "tags": []
          },
          "execution_count": 5
        }
      ]
    },
    {
      "cell_type": "code",
      "metadata": {
        "colab_type": "code",
        "id": "Y0ysUFGY924U",
        "colab": {}
      },
      "source": [
        "def loss(prediction,target):\n",
        "  return tf.reduce_mean(tf.math.square(prediction - target))"
      ],
      "execution_count": 0,
      "outputs": []
    },
    {
      "cell_type": "code",
      "metadata": {
        "colab_type": "code",
        "id": "gxPTb-kt_N5m",
        "colab": {}
      },
      "source": [
        "TRUE_W = 5.0\n",
        "TRUE_b = 10.0\n",
        "NUM_EXAMPLES = 1000\n",
        "\n",
        "inputs  = tf.random.normal(shape=[NUM_EXAMPLES])\n",
        "noise   = tf.random.normal(shape=[NUM_EXAMPLES])\n",
        "outputs = inputs * TRUE_W + TRUE_b + noise"
      ],
      "execution_count": 0,
      "outputs": []
    },
    {
      "cell_type": "markdown",
      "metadata": {
        "colab_type": "text",
        "id": "-50nq-wPBsAW"
      },
      "source": [
        "Before training the model, visualize the loss value by plotting the model's predictions in red and the training data in blue:"
      ]
    },
    {
      "cell_type": "code",
      "metadata": {
        "colab_type": "code",
        "id": "_eb83LtrB4nt",
        "outputId": "076ef0e8-6a68-4fcc-c3a8-60aa7b0b7489",
        "colab": {
          "base_uri": "https://localhost:8080/",
          "height": 306
        }
      },
      "source": [
        "import matplotlib.pyplot as plt\n",
        "\n",
        "plt.scatter(inputs, outputs, c='b')\n",
        "plt.scatter(inputs, model(inputs), c='r')\n",
        "plt.show()\n",
        "\n",
        "print('Current loss: %1.6f' % loss(model(inputs), outputs).numpy())"
      ],
      "execution_count": 0,
      "outputs": [
        {
          "output_type": "display_data",
          "data": {
            "image/png": "[encoded data removed]",
            "text/plain": [
              "<Figure size 432x288 with 1 Axes>"
            ]
          },
          "metadata": {
            "tags": []
          }
        },
        {
          "output_type": "stream",
          "text": [
            "Current loss: 103.322281\n"
          ],
          "name": "stdout"
        }
      ]
    },
    {
      "cell_type": "markdown",
      "metadata": {
        "colab_type": "text",
        "id": "sSDP-yeq_4jE"
      },
      "source": [
        "### Define a training loop\n"
      ]
    },
    {
      "cell_type": "code",
      "metadata": {
        "colab_type": "code",
        "id": "MBIACgdnA55X",
        "colab": {}
      },
      "source": [
        "def train(model, inputs, outputs, learning_rate):\n",
        "  with tf.GradientTape() as g:\n",
        "    current_loss = loss(model(inputs),outputs)\n",
        "    dw,db =  g.gradient(current_loss,[model.w,model.b])\n",
        "    model.w.assign_sub(learning_rate*dw)\n",
        "    model.b.assign_sub(learning_rate*db)"
      ],
      "execution_count": 0,
      "outputs": []
    },
    {
      "cell_type": "code",
      "metadata": {
        "colab_type": "code",
        "id": "XdfkR223D9dW",
        "outputId": "8fbface1-1ede-4e5b-b1bc-c817a901f9ef",
        "colab": {
          "base_uri": "https://localhost:8080/",
          "height": 557
        }
      },
      "source": [
        "model = Model()\n",
        "Ws = []\n",
        "bs = []\n",
        "train_epoch = 30\n",
        "for epoch in range(train_epoch):\n",
        "  Ws.append(model.w.numpy())\n",
        "  bs.append(model.b.numpy())\n",
        "  current_loss = loss(model(inputs),outputs)\n",
        "  train(model,inputs,outputs,learning_rate=0.1)\n",
        "  print(f\"epoch {epoch} W : {Ws[-1]:.2f}  b : {bs[-1]:.2f} Loss: {current_loss:.3f}\")"
      ],
      "execution_count": 0,
      "outputs": [
        {
          "output_type": "stream",
          "text": [
            "epoch 0 W : 3.00  b : 0.00 Loss: 103.322\n",
            "epoch 1 W : 3.35  b : 1.98 Loss: 66.870\n",
            "epoch 2 W : 3.63  b : 3.57 Loss: 43.413\n",
            "epoch 3 W : 3.87  b : 4.84 Loss: 28.317\n",
            "epoch 4 W : 4.07  b : 5.86 Loss: 18.600\n",
            "epoch 5 W : 4.23  b : 6.68 Loss: 12.344\n",
            "epoch 6 W : 4.37  b : 7.33 Loss: 8.316\n",
            "epoch 7 W : 4.48  b : 7.86 Loss: 5.723\n",
            "epoch 8 W : 4.57  b : 8.28 Loss: 4.053\n",
            "epoch 9 W : 4.65  b : 8.61 Loss: 2.977\n",
            "epoch 10 W : 4.71  b : 8.89 Loss: 2.284\n",
            "epoch 11 W : 4.76  b : 9.10 Loss: 1.837\n",
            "epoch 12 W : 4.80  b : 9.28 Loss: 1.550\n",
            "epoch 13 W : 4.84  b : 9.41 Loss: 1.364\n",
            "epoch 14 W : 4.86  b : 9.53 Loss: 1.245\n",
            "epoch 15 W : 4.89  b : 9.62 Loss: 1.168\n",
            "epoch 16 W : 4.91  b : 9.69 Loss: 1.118\n",
            "epoch 17 W : 4.92  b : 9.75 Loss: 1.086\n",
            "epoch 18 W : 4.93  b : 9.79 Loss: 1.065\n",
            "epoch 19 W : 4.94  b : 9.83 Loss: 1.052\n",
            "epoch 20 W : 4.95  b : 9.86 Loss: 1.044\n",
            "epoch 21 W : 4.96  b : 9.88 Loss: 1.038\n",
            "epoch 22 W : 4.96  b : 9.90 Loss: 1.035\n",
            "epoch 23 W : 4.97  b : 9.92 Loss: 1.032\n",
            "epoch 24 W : 4.97  b : 9.93 Loss: 1.031\n",
            "epoch 25 W : 4.97  b : 9.94 Loss: 1.030\n",
            "epoch 26 W : 4.98  b : 9.95 Loss: 1.029\n",
            "epoch 27 W : 4.98  b : 9.95 Loss: 1.029\n",
            "epoch 28 W : 4.98  b : 9.96 Loss: 1.029\n",
            "epoch 29 W : 4.98  b : 9.96 Loss: 1.028\n"
          ],
          "name": "stdout"
        }
      ]
    },
    {
      "cell_type": "code",
      "metadata": {
        "id": "AmMchvTOWmjl",
        "colab_type": "code",
        "outputId": "6c3196b6-d398-4f94-abc4-759c0947f142",
        "colab": {
          "base_uri": "https://localhost:8080/",
          "height": 286
        }
      },
      "source": [
        "import matplotlib.pyplot as plt\n",
        "\n",
        "plt.scatter(inputs, outputs, c='b')\n",
        "plt.scatter(inputs, model(inputs), c='r')\n",
        "plt.show()\n",
        "\n",
        "print('Current loss: %1.6f' % loss(model(inputs), outputs).numpy())"
      ],
      "execution_count": 0,
      "outputs": [
        {
          "output_type": "display_data",
          "data": {
            "image/png": "[encoded data removed]",
            "text/plain": [
              "<Figure size 432x288 with 1 Axes>"
            ]
          },
          "metadata": {
            "tags": []
          }
        },
        {
          "output_type": "stream",
          "text": [
            "Current loss: 1.028236\n"
          ],
          "name": "stdout"
        }
      ]
    }
  ]
}
